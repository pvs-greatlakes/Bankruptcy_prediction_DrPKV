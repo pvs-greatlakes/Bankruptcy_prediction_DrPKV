{
 "cells": [
  {
   "cell_type": "markdown",
   "id": "edd1b439",
   "metadata": {},
   "source": [
    "### 1) Importing required modules"
   ]
  },
  {
   "cell_type": "code",
   "execution_count": 1,
   "id": "95c65dee",
   "metadata": {},
   "outputs": [],
   "source": [
    "import  pandas                   as      pd\n",
    "import  numpy                    as      np\n",
    "from    sklearn.model_selection  import  train_test_split\n",
    "from    sklearn.linear_model     import  LogisticRegression\n",
    "from    sklearn.metrics          import  accuracy_score, roc_auc_score\n",
    "\n",
    "from    matplotlib               import  pyplot   as  plt"
   ]
  },
  {
   "cell_type": "code",
   "execution_count": 2,
   "id": "90cc6e63",
   "metadata": {},
   "outputs": [],
   "source": [
    "import time\n",
    "from    datetime   import datetime\n",
    "from    datetime   import timedelta"
   ]
  },
  {
   "cell_type": "markdown",
   "id": "ce9492b6",
   "metadata": {},
   "source": [
    "### 2) Read data"
   ]
  },
  {
   "cell_type": "code",
   "execution_count": 3,
   "id": "620962eb",
   "metadata": {},
   "outputs": [],
   "source": [
    "df            =    pd.read_csv(r'D:\\DrPKV\\20220901\\Output_20220901092149AM\\imputed_compact_dataset_10_20220901092150AM.csv')"
   ]
  },
  {
   "cell_type": "code",
   "execution_count": 4,
   "id": "92945752",
   "metadata": {},
   "outputs": [
    {
     "name": "stdout",
     "output_type": "stream",
     "text": [
      "<class 'pandas.core.frame.DataFrame'>\n",
      "RangeIndex: 9000 entries, 0 to 8999\n",
      "Data columns (total 10 columns):\n",
      " #   Column                          Non-Null Count  Dtype  \n",
      "---  ------                          --------------  -----  \n",
      " 0   Cash_ratio                      9000 non-null   float64\n",
      " 1   Changeinsales_Industry          9000 non-null   float64\n",
      " 2   debt_equity                     9000 non-null   float64\n",
      " 3   debt_income                     9000 non-null   float64\n",
      " 4   Interest_coverage               9000 non-null   float64\n",
      " 5   Operating Cash Flow/Total Debt  9000 non-null   float64\n",
      " 6   Receivable_turnover(new)        9000 non-null   float64\n",
      " 7   ROS(new)                        9000 non-null   float64\n",
      " 8   Total shareholders' funds       9000 non-null   float64\n",
      " 9   Target                          9000 non-null   int64  \n",
      "dtypes: float64(9), int64(1)\n",
      "memory usage: 703.2 KB\n"
     ]
    }
   ],
   "source": [
    "drop_cols     =    [ 'Slno', 'Shareholderquity_code']\n",
    "df1           =     df.drop(drop_cols, axis = 1)  \n",
    "df1.info()"
   ]
  },
  {
   "cell_type": "code",
   "execution_count": 5,
   "id": "f476087b",
   "metadata": {},
   "outputs": [],
   "source": [
    "y             =    df1['Target']\n",
    "X             =    df1.drop(['Target'], axis = 1)  "
   ]
  },
  {
   "cell_type": "code",
   "execution_count": 6,
   "id": "3b2d9ce9",
   "metadata": {},
   "outputs": [
    {
     "data": {
      "text/plain": [
       "(9000, 34)"
      ]
     },
     "execution_count": 6,
     "metadata": {},
     "output_type": "execute_result"
    }
   ],
   "source": [
    "file_name     =    R'D:\\DrPKV\\20220901\\Data\\BankruptcyData.xlsx'\n",
    "df_raw        =    pd.read_excel(file_name, sheet_name = 'Full data')\n",
    "df_raw.shape"
   ]
  },
  {
   "cell_type": "code",
   "execution_count": 7,
   "id": "4a399ed7",
   "metadata": {},
   "outputs": [
    {
     "name": "stdout",
     "output_type": "stream",
     "text": [
      "<class 'pandas.core.frame.DataFrame'>\n",
      "RangeIndex: 9000 entries, 0 to 8999\n",
      "Data columns (total 34 columns):\n",
      " #   Column                                    Non-Null Count  Dtype  \n",
      "---  ------                                    --------------  -----  \n",
      " 0   Row                                       9000 non-null   int64  \n",
      " 1   Year                                      9000 non-null   int64  \n",
      " 2   Company_name                              9000 non-null   object \n",
      " 3   Year Encoded                              9000 non-null   int64  \n",
      " 4    Dummy Coded :Healthy=1; NPA= 0           9000 non-null   int64  \n",
      " 5   Asset_turnover                            8299 non-null   float64\n",
      " 6   Receivable_turnover(new)                  7390 non-null   float64\n",
      " 7   Inventory_turnover                        5702 non-null   float64\n",
      " 8   Cash_ratio                                8278 non-null   float64\n",
      " 9   Quick_ratio                               8278 non-null   float64\n",
      " 10  Current_ratio                             8278 non-null   float64\n",
      " 11  ROA(new)                                  8319 non-null   float64\n",
      " 12  ROE(new)                                  8301 non-null   float64\n",
      " 13  ROS(new)                                  8420 non-null   float64\n",
      " 14  ROI(new)                                  4868 non-null   float64\n",
      " 15  debt_asset                                8319 non-null   float64\n",
      " 16  debt_equity                               8301 non-null   float64\n",
      " 17  debt_income                               8882 non-null   float64\n",
      " 18  Interest_coverage                         7431 non-null   float64\n",
      " 19  Asset_coverage                            7694 non-null   float64\n",
      " 20  EBIT_Sales                                8420 non-null   float64\n",
      " 21  Sales_CE                                  8281 non-null   float64\n",
      " 22  ROCE_CE                                   7742 non-null   float64\n",
      " 23  Changeinsales_Industry                    8987 non-null   float64\n",
      " 24  Grossvaluedadded                          8987 non-null   float64\n",
      " 25  Ln_GVA                                    8987 non-null   float64\n",
      " 26  Operating Cash Flow/Total Sales           8420 non-null   float64\n",
      " 27  Operating Cash Flow/Total Debt            7694 non-null   float64\n",
      " 28  Operating Cash Flow/Shareholder's Equity  8301 non-null   float64\n",
      " 29  Fixed Asset Turnover Ratio                7993 non-null   float64\n",
      " 30  YOY Sales Growth Rate                     8397 non-null   float64\n",
      " 31  YOY EBIT Growth Rate                      8858 non-null   float64\n",
      " 32  Total shareholders' funds                 8979 non-null   float64\n",
      " 33  Shareholderquity_code                     5210 non-null   float64\n",
      "dtypes: float64(29), int64(4), object(1)\n",
      "memory usage: 2.3+ MB\n"
     ]
    }
   ],
   "source": [
    "df_raw.info()"
   ]
  },
  {
   "cell_type": "code",
   "execution_count": 8,
   "id": "6c12ab58",
   "metadata": {},
   "outputs": [
    {
     "data": {
      "text/plain": [
       "Row                                            0\n",
       "Year                                           0\n",
       "Company_name                                   0\n",
       "Year Encoded                                   0\n",
       " Dummy Coded :Healthy=1; NPA= 0                0\n",
       "Asset_turnover                               701\n",
       "Receivable_turnover(new)                    1610\n",
       "Inventory_turnover                          3298\n",
       "Cash_ratio                                   722\n",
       "Quick_ratio                                  722\n",
       "Current_ratio                                722\n",
       "ROA(new)                                     681\n",
       "ROE(new)                                     699\n",
       "ROS(new)                                     580\n",
       "ROI(new)                                    4132\n",
       "debt_asset                                   681\n",
       "debt_equity                                  699\n",
       "debt_income                                  118\n",
       "Interest_coverage                           1569\n",
       "Asset_coverage                              1306\n",
       "EBIT_Sales                                   580\n",
       "Sales_CE                                     719\n",
       "ROCE_CE                                     1258\n",
       "Changeinsales_Industry                        13\n",
       "Grossvaluedadded                              13\n",
       "Ln_GVA                                        13\n",
       "Operating Cash Flow/Total Sales              580\n",
       "Operating Cash Flow/Total Debt              1306\n",
       "Operating Cash Flow/Shareholder's Equity     699\n",
       "Fixed Asset Turnover Ratio                  1007\n",
       "YOY Sales Growth Rate                        603\n",
       "YOY EBIT Growth Rate                         142\n",
       "Total shareholders' funds                     21\n",
       "Shareholderquity_code                       3790\n",
       "dtype: int64"
      ]
     },
     "execution_count": 8,
     "metadata": {},
     "output_type": "execute_result"
    }
   ],
   "source": [
    "df_raw.isnull().sum()"
   ]
  },
  {
   "cell_type": "code",
   "execution_count": 9,
   "id": "7c4dab06",
   "metadata": {},
   "outputs": [
    {
     "data": {
      "text/plain": [
       "(9000, 34)"
      ]
     },
     "execution_count": 9,
     "metadata": {},
     "output_type": "execute_result"
    }
   ],
   "source": [
    "df_raw.shape"
   ]
  },
  {
   "cell_type": "code",
   "execution_count": 10,
   "id": "f93b9e67",
   "metadata": {},
   "outputs": [],
   "source": [
    "df_compare                      =   df_raw.loc[:, [' Dummy Coded :Healthy=1; NPA= 0', 'Shareholderquity_code']]"
   ]
  },
  {
   "cell_type": "code",
   "execution_count": 11,
   "id": "e682145f",
   "metadata": {},
   "outputs": [
    {
     "name": "stdout",
     "output_type": "stream",
     "text": [
      "<class 'pandas.core.frame.DataFrame'>\n",
      "RangeIndex: 9000 entries, 0 to 8999\n",
      "Data columns (total 2 columns):\n",
      " #   Column                           Non-Null Count  Dtype  \n",
      "---  ------                           --------------  -----  \n",
      " 0    Dummy Coded :Healthy=1; NPA= 0  9000 non-null   int64  \n",
      " 1   Shareholderquity_code            5210 non-null   float64\n",
      "dtypes: float64(1), int64(1)\n",
      "memory usage: 140.8 KB\n"
     ]
    }
   ],
   "source": [
    "df_compare.info()"
   ]
  },
  {
   "cell_type": "code",
   "execution_count": 12,
   "id": "896eb2f4",
   "metadata": {},
   "outputs": [
    {
     "data": {
      "text/plain": [
       " Dummy Coded :Healthy=1; NPA= 0       0\n",
       "Shareholderquity_code              3790\n",
       "dtype: int64"
      ]
     },
     "execution_count": 12,
     "metadata": {},
     "output_type": "execute_result"
    }
   ],
   "source": [
    "df_compare.isnull().sum()"
   ]
  },
  {
   "cell_type": "code",
   "execution_count": 13,
   "id": "af67d7c1",
   "metadata": {},
   "outputs": [],
   "source": [
    "df_compare.dropna(inplace = True)"
   ]
  },
  {
   "cell_type": "code",
   "execution_count": 14,
   "id": "8327025f",
   "metadata": {},
   "outputs": [
    {
     "data": {
      "text/plain": [
       "(5210, 2)"
      ]
     },
     "execution_count": 14,
     "metadata": {},
     "output_type": "execute_result"
    }
   ],
   "source": [
    "df_compare.shape"
   ]
  },
  {
   "cell_type": "code",
   "execution_count": 15,
   "id": "e7514abb",
   "metadata": {},
   "outputs": [],
   "source": [
    "df_compare['Target']                 =  df_compare[' Dummy Coded :Healthy=1; NPA= 0'].astype(str)\n",
    "df_compare['Shareholderquity_code']  =  df_compare['Shareholderquity_code'].astype(str) "
   ]
  },
  {
   "cell_type": "code",
   "execution_count": 16,
   "id": "ab6d92b5",
   "metadata": {},
   "outputs": [
    {
     "data": {
      "text/plain": [
       "1    3906\n",
       "0    1304\n",
       "Name: Target, dtype: int64"
      ]
     },
     "execution_count": 16,
     "metadata": {},
     "output_type": "execute_result"
    }
   ],
   "source": [
    "df_compare['Target'].value_counts()"
   ]
  },
  {
   "cell_type": "code",
   "execution_count": 17,
   "id": "c0584655",
   "metadata": {},
   "outputs": [
    {
     "data": {
      "text/plain": [
       "0.0    3305\n",
       "2.0     865\n",
       "1.0     601\n",
       "3.0     439\n",
       "Name: Shareholderquity_code, dtype: int64"
      ]
     },
     "execution_count": 17,
     "metadata": {},
     "output_type": "execute_result"
    }
   ],
   "source": [
    "df_compare['Shareholderquity_code'].value_counts()"
   ]
  },
  {
   "cell_type": "code",
   "execution_count": 18,
   "id": "e41ba53a",
   "metadata": {},
   "outputs": [],
   "source": [
    "df_compare['Target']                 =  df_compare['Target'].map({'0':'NPA','1':'Healthy', np.nan:'NY'},na_action = None)\n",
    "df_compare['Shareholderquity_code']  =  df_compare['Shareholderquity_code'].map({'0.0':'healthy firm +ve equity',\\\n",
    "                                                                                 '1.0':'healthy firm -ve equity',\\\n",
    "                                                                                 '2.0':'banktrupt firm +ve equity',\\\n",
    "                                                                                 '3.0':'banktrupt firm -ve equity',\\\n",
    "                                                                                 np.nan:'NY'},na_action = None)"
   ]
  },
  {
   "cell_type": "code",
   "execution_count": 19,
   "id": "4ac46eee",
   "metadata": {},
   "outputs": [
    {
     "data": {
      "text/plain": [
       "Healthy    3906\n",
       "NPA        1304\n",
       "Name: Target, dtype: int64"
      ]
     },
     "execution_count": 19,
     "metadata": {},
     "output_type": "execute_result"
    }
   ],
   "source": [
    "df_compare['Target'].value_counts()"
   ]
  },
  {
   "cell_type": "code",
   "execution_count": 20,
   "id": "323c926d",
   "metadata": {},
   "outputs": [
    {
     "data": {
      "text/plain": [
       "healthy firm +ve equity      3305\n",
       "banktrupt firm +ve equity     865\n",
       "healthy firm -ve equity       601\n",
       "banktrupt firm -ve equity     439\n",
       "Name: Shareholderquity_code, dtype: int64"
      ]
     },
     "execution_count": 20,
     "metadata": {},
     "output_type": "execute_result"
    }
   ],
   "source": [
    "df_compare['Shareholderquity_code'].value_counts()"
   ]
  },
  {
   "cell_type": "code",
   "execution_count": 21,
   "id": "fe01654d",
   "metadata": {},
   "outputs": [],
   "source": [
    "import scipy.stats\n",
    "from   scipy.stats import chi2"
   ]
  },
  {
   "cell_type": "code",
   "execution_count": 22,
   "id": "81b2c651",
   "metadata": {},
   "outputs": [
    {
     "name": "stdout",
     "output_type": "stream",
     "text": [
      "contingency_table :\n",
      " Shareholderquity_code  banktrupt firm +ve equity  banktrupt firm -ve equity  \\\n",
      "Target                                                                        \n",
      "Healthy                                        0                          0   \n",
      "NPA                                          865                        439   \n",
      "\n",
      "Shareholderquity_code  healthy firm +ve equity  healthy firm -ve equity  \n",
      "Target                                                                   \n",
      "Healthy                                   3305                      601  \n",
      "NPA                                          0                        0  \n"
     ]
    }
   ],
   "source": [
    "ct_table_ind=pd.crosstab(df_compare['Target'], df_compare['Shareholderquity_code'])\n",
    "print('contingency_table :\\n',ct_table_ind)"
   ]
  },
  {
   "cell_type": "markdown",
   "id": "726d59d4",
   "metadata": {},
   "source": [
    "## Chi-square of independence\n",
    "\n",
    "A Chi-Square test of independence uses the following null and alternative hypotheses:\n",
    "\n",
    "**H0: (null hypothesis) The two variables, Target & Shareholderquity_code are independent.**\n",
    "\n",
    "**H1: (alternative hypothesis) The two variables, Target & Shareholderquity_code are not independent. (i.e. they are associated)**"
   ]
  },
  {
   "cell_type": "code",
   "execution_count": 23,
   "id": "d67114d2",
   "metadata": {},
   "outputs": [
    {
     "name": "stdout",
     "output_type": "stream",
     "text": [
      "chi2 statistic:     5210\n",
      "p-value:            0\n",
      "degrees of freedom: 3\n",
      "expected frequencies:\n",
      " [[ 648.50095969  329.12360845 2477.79846449  450.57696737]\n",
      " [ 216.49904031  109.87639155  827.20153551  150.42303263]]\n"
     ]
    }
   ],
   "source": [
    "chi2_stat, p, dof, expected = scipy.stats.chi2_contingency(ct_table_ind)\n",
    " \n",
    "print(f\"chi2 statistic:     {chi2_stat:.5g}\")\n",
    "print(f\"p-value:            {p:.5g}\")\n",
    "print(f\"degrees of freedom: {dof}\")\n",
    "print(\"expected frequencies:\\n\",expected)\n"
   ]
  },
  {
   "cell_type": "markdown",
   "id": "8fb9a510",
   "metadata": {},
   "source": [
    "### Observations\n",
    "\n",
    "Since the p-value for the Chi-square test of independence is < 0.05 (@ 5% level of significance), we have sufficient evidence to reject the null hypothesis and conclude that both **the two variables, Target & Shareholderquity_code are not independent. (i.e. they are associated).**"
   ]
  },
  {
   "cell_type": "markdown",
   "id": "3065d10e",
   "metadata": {},
   "source": [
    "### 3) Implementing cross validation"
   ]
  },
  {
   "cell_type": "code",
   "execution_count": 24,
   "id": "dade08c1",
   "metadata": {},
   "outputs": [],
   "source": [
    "\"\"\"\n",
    "Function Name: compare_models\n",
    "\n",
    "   Description: This **function** compares various algorithms on \n",
    "                 1) AUROC 2) Precision, 3) Recall\n",
    "   \n",
    "   Input: 1) splits for k fold \n",
    "          2) random seed number\n",
    "          3) Training data for predictor variables\n",
    "          4) Training data for target variable\n",
    "\n",
    "\n",
    "\n",
    "   Output: Model comparison on these metrics 1) AUROC 2) Metrics - Precision, Recall\n",
    "   \n",
    "\"\"\"\n",
    "def compare_models(random_state, X, y):  \n",
    "\n",
    "    ### To compare algorithms\n",
    "    \n",
    "    from    matplotlib                    import   pyplot                 as       plt\n",
    "    from    sklearn.model_selection       import   KFold\n",
    "    from    sklearn.metrics               import   roc_auc_score\n",
    "    from    sklearn.linear_model          import   LogisticRegression\n",
    "    from    sklearn.tree                  import   DecisionTreeClassifier\n",
    "    from    sklearn.discriminant_analysis import   LinearDiscriminantAnalysis\n",
    "    from    sklearn.model_selection       import   cross_val_score\n",
    "    from    sklearn.neighbors             import   KNeighborsClassifier\n",
    "    from    sklearn.ensemble              import   RandomForestClassifier\n",
    "    from    sklearn.model_selection       import   StratifiedKFold\n",
    "    from    xgboost                       import   XGBClassifier\n",
    "    ### ----------------------------------------------------------------------------------------------    \n",
    "    ### Prepare models\n",
    "    ### ----------------------------------------------------------------------------------------------\n",
    "    \n",
    "    ## X_train, X_test, y_train, y_test =  train_test_split(X, y, test_size = 0.30, stratify = y,  random_state = random_state)  \n",
    "        \n",
    "    results_df   =   pd.DataFrame()  \n",
    "    models       =   []\n",
    "    models.append(('LR', LogisticRegression().fit(X, y)))\n",
    "    models.append(('CART', DecisionTreeClassifier().fit(X, y)))\n",
    "    models.append(('RF',RandomForestClassifier().fit(X, y)))\n",
    "    models.append(('LDA', LinearDiscriminantAnalysis().fit(X, y)))\n",
    "    models.append(('KNN', KNeighborsClassifier().fit(X, y)))\n",
    "    models.append(('XGB', XGBClassifier().fit(X, y)))\n",
    "    \n",
    "    ### ----------------------------------------------------------------------------------------------   \n",
    "    ### Evaluate model in turn\n",
    "      \n",
    "    scores_req      =  ['roc_auc', 'precision', 'recall']\n",
    "    n_splits        =  10\n",
    "    cv_df           =  pd.DataFrame()\n",
    "    \n",
    "    for i in range(len(scores_req)):\n",
    "        \n",
    "        results    =  []\n",
    "        scoring    =  scores_req[i]\n",
    "        names      =  []\n",
    "        \n",
    "        print(scoring)\n",
    "        \n",
    "        for name, model in models:\n",
    "                print(\"\\n n_splits %d\" % (n_splits))        \n",
    "                #try:\n",
    "                strat_cv        =   StratifiedKFold(n_splits = n_splits, shuffle = True, random_state = 1234)\n",
    "                cv_results      =   cross_val_score(model, X, y, cv = strat_cv, scoring = scoring)\n",
    "                results.append(cv_results)\n",
    "                names.append(name)\n",
    "                msg = \"%s: %f (%f)\" % (name, cv_results.mean(), cv_results.std())\n",
    "                print(msg)\n",
    "                cv_df1           =  pd.DataFrame({'Model' : name, 'Scoring' : scoring, 'Measure value' : cv_results.mean()} , index = [0])\n",
    "                cv_df            =  pd.concat([cv_df, cv_df1], ignore_index = True)\n",
    "                \n",
    "        ### Box plot algorithm comparison\n",
    "        \n",
    "        sub_title = 'Algorithm Comparison using ' + scoring\n",
    "        \n",
    "        fig = plt.figure()\n",
    "        fig.suptitle(sub_title)\n",
    "        ax  = fig.add_subplot(111)\n",
    "        plt.boxplot(results)\n",
    "        ax.set_xticklabels(names)\n",
    "        plt.show()\n",
    "    return cv_df\n",
    "### ------------------------------------------------------------------------------------------"
   ]
  },
  {
   "cell_type": "code",
   "execution_count": 25,
   "id": "67b82833",
   "metadata": {},
   "outputs": [
    {
     "name": "stdout",
     "output_type": "stream",
     "text": [
      "roc_auc\n",
      "\n",
      " n_splits 10\n",
      "LR: 0.671746 (0.014772)\n",
      "\n",
      " n_splits 10\n",
      "CART: 0.753718 (0.024503)\n",
      "\n",
      " n_splits 10\n",
      "RF: 0.936049 (0.008508)\n",
      "\n",
      " n_splits 10\n",
      "LDA: 0.687096 (0.017257)\n",
      "\n",
      " n_splits 10\n",
      "KNN: 0.687889 (0.015021)\n",
      "\n",
      " n_splits 10\n",
      "XGB: 0.944597 (0.008113)\n"
     ]
    },
    {
     "data": {
      "image/png": "[encoded data removed]",
      "text/plain": [
       "<Figure size 432x288 with 1 Axes>"
      ]
     },
     "metadata": {
      "needs_background": "light"
     },
     "output_type": "display_data"
    },
    {
     "name": "stdout",
     "output_type": "stream",
     "text": [
      "precision\n",
      "\n",
      " n_splits 10\n",
      "LR: 0.347486 (0.042022)\n",
      "\n",
      " n_splits 10\n",
      "CART: 0.565580 (0.024578)\n",
      "\n",
      " n_splits 10\n",
      "RF: 0.879763 (0.036222)\n",
      "\n",
      " n_splits 10\n",
      "LDA: 0.592857 (0.438050)\n",
      "\n",
      " n_splits 10\n"
     ]
    },
    {
     "name": "stderr",
     "output_type": "stream",
     "text": [
      "C:\\Users\\User\\anaconda3\\lib\\site-packages\\sklearn\\metrics\\_classification.py:1318: UndefinedMetricWarning: Precision is ill-defined and being set to 0.0 due to no predicted samples. Use `zero_division` parameter to control this behavior.\n",
      "  _warn_prf(average, modifier, msg_start, len(result))\n",
      "C:\\Users\\User\\anaconda3\\lib\\site-packages\\sklearn\\metrics\\_classification.py:1318: UndefinedMetricWarning: Precision is ill-defined and being set to 0.0 due to no predicted samples. Use `zero_division` parameter to control this behavior.\n",
      "  _warn_prf(average, modifier, msg_start, len(result))\n",
      "C:\\Users\\User\\anaconda3\\lib\\site-packages\\sklearn\\metrics\\_classification.py:1318: UndefinedMetricWarning: Precision is ill-defined and being set to 0.0 due to no predicted samples. Use `zero_division` parameter to control this behavior.\n",
      "  _warn_prf(average, modifier, msg_start, len(result))\n"
     ]
    },
    {
     "name": "stdout",
     "output_type": "stream",
     "text": [
      "KNN: 0.630005 (0.066139)\n",
      "\n",
      " n_splits 10\n",
      "XGB: 0.829587 (0.033946)\n"
     ]
    },
    {
     "data": {
      "image/png": "[encoded data removed]",
      "text/plain": [
       "<Figure size 432x288 with 1 Axes>"
      ]
     },
     "metadata": {
      "needs_background": "light"
     },
     "output_type": "display_data"
    },
    {
     "name": "stdout",
     "output_type": "stream",
     "text": [
      "recall\n",
      "\n",
      " n_splits 10\n",
      "LR: 0.242293 (0.024252)\n",
      "\n",
      " n_splits 10\n",
      "CART: 0.581955 (0.043587)\n",
      "\n",
      " n_splits 10\n",
      "RF: 0.525404 (0.058182)\n",
      "\n",
      " n_splits 10\n",
      "LDA: 0.009062 (0.008133)\n",
      "\n",
      " n_splits 10\n",
      "KNN: 0.274032 (0.027480)\n",
      "\n",
      " n_splits 10\n",
      "XGB: 0.597032 (0.052582)\n"
     ]
    },
    {
     "data": {
      "image/png": "[encoded data removed]",
      "text/plain": [
       "<Figure size 432x288 with 1 Axes>"
      ]
     },
     "metadata": {
      "needs_background": "light"
     },
     "output_type": "display_data"
    }
   ],
   "source": [
    "random_state         =   12345\n",
    "cv_df =  compare_models(random_state, X, y)"
   ]
  },
  {
   "cell_type": "code",
   "execution_count": 26,
   "id": "2e701f10",
   "metadata": {},
   "outputs": [
    {
     "data": {
      "text/html": [
       "<div>\n",
       "<style scoped>\n",
       "    .dataframe tbody tr th:only-of-type {\n",
       "        vertical-align: middle;\n",
       "    }\n",
       "\n",
       "    .dataframe tbody tr th {\n",
       "        vertical-align: top;\n",
       "    }\n",
       "\n",
       "    .dataframe thead th {\n",
       "        text-align: right;\n",
       "    }\n",
       "</style>\n",
       "<table border=\"1\" class=\"dataframe\">\n",
       "  <thead>\n",
       "    <tr style=\"text-align: right;\">\n",
       "      <th></th>\n",
       "      <th>Model</th>\n",
       "      <th>Scoring</th>\n",
       "      <th>Measure value</th>\n",
       "    </tr>\n",
       "  </thead>\n",
       "  <tbody>\n",
       "    <tr>\n",
       "      <th>0</th>\n",
       "      <td>LR</td>\n",
       "      <td>roc_auc</td>\n",
       "      <td>0.671746</td>\n",
       "    </tr>\n",
       "    <tr>\n",
       "      <th>1</th>\n",
       "      <td>CART</td>\n",
       "      <td>roc_auc</td>\n",
       "      <td>0.753718</td>\n",
       "    </tr>\n",
       "    <tr>\n",
       "      <th>2</th>\n",
       "      <td>RF</td>\n",
       "      <td>roc_auc</td>\n",
       "      <td>0.936049</td>\n",
       "    </tr>\n",
       "    <tr>\n",
       "      <th>3</th>\n",
       "      <td>LDA</td>\n",
       "      <td>roc_auc</td>\n",
       "      <td>0.687096</td>\n",
       "    </tr>\n",
       "    <tr>\n",
       "      <th>4</th>\n",
       "      <td>KNN</td>\n",
       "      <td>roc_auc</td>\n",
       "      <td>0.687889</td>\n",
       "    </tr>\n",
       "    <tr>\n",
       "      <th>5</th>\n",
       "      <td>XGB</td>\n",
       "      <td>roc_auc</td>\n",
       "      <td>0.944597</td>\n",
       "    </tr>\n",
       "    <tr>\n",
       "      <th>6</th>\n",
       "      <td>LR</td>\n",
       "      <td>precision</td>\n",
       "      <td>0.347486</td>\n",
       "    </tr>\n",
       "    <tr>\n",
       "      <th>7</th>\n",
       "      <td>CART</td>\n",
       "      <td>precision</td>\n",
       "      <td>0.565580</td>\n",
       "    </tr>\n",
       "    <tr>\n",
       "      <th>8</th>\n",
       "      <td>RF</td>\n",
       "      <td>precision</td>\n",
       "      <td>0.879763</td>\n",
       "    </tr>\n",
       "    <tr>\n",
       "      <th>9</th>\n",
       "      <td>LDA</td>\n",
       "      <td>precision</td>\n",
       "      <td>0.592857</td>\n",
       "    </tr>\n",
       "    <tr>\n",
       "      <th>10</th>\n",
       "      <td>KNN</td>\n",
       "      <td>precision</td>\n",
       "      <td>0.630005</td>\n",
       "    </tr>\n",
       "    <tr>\n",
       "      <th>11</th>\n",
       "      <td>XGB</td>\n",
       "      <td>precision</td>\n",
       "      <td>0.829587</td>\n",
       "    </tr>\n",
       "    <tr>\n",
       "      <th>12</th>\n",
       "      <td>LR</td>\n",
       "      <td>recall</td>\n",
       "      <td>0.242293</td>\n",
       "    </tr>\n",
       "    <tr>\n",
       "      <th>13</th>\n",
       "      <td>CART</td>\n",
       "      <td>recall</td>\n",
       "      <td>0.581955</td>\n",
       "    </tr>\n",
       "    <tr>\n",
       "      <th>14</th>\n",
       "      <td>RF</td>\n",
       "      <td>recall</td>\n",
       "      <td>0.525404</td>\n",
       "    </tr>\n",
       "    <tr>\n",
       "      <th>15</th>\n",
       "      <td>LDA</td>\n",
       "      <td>recall</td>\n",
       "      <td>0.009062</td>\n",
       "    </tr>\n",
       "    <tr>\n",
       "      <th>16</th>\n",
       "      <td>KNN</td>\n",
       "      <td>recall</td>\n",
       "      <td>0.274032</td>\n",
       "    </tr>\n",
       "    <tr>\n",
       "      <th>17</th>\n",
       "      <td>XGB</td>\n",
       "      <td>recall</td>\n",
       "      <td>0.597032</td>\n",
       "    </tr>\n",
       "  </tbody>\n",
       "</table>\n",
       "</div>"
      ],
      "text/plain": [
       "   Model    Scoring  Measure value\n",
       "0     LR    roc_auc       0.671746\n",
       "1   CART    roc_auc       0.753718\n",
       "2     RF    roc_auc       0.936049\n",
       "3    LDA    roc_auc       0.687096\n",
       "4    KNN    roc_auc       0.687889\n",
       "5    XGB    roc_auc       0.944597\n",
       "6     LR  precision       0.347486\n",
       "7   CART  precision       0.565580\n",
       "8     RF  precision       0.879763\n",
       "9    LDA  precision       0.592857\n",
       "10   KNN  precision       0.630005\n",
       "11   XGB  precision       0.829587\n",
       "12    LR     recall       0.242293\n",
       "13  CART     recall       0.581955\n",
       "14    RF     recall       0.525404\n",
       "15   LDA     recall       0.009062\n",
       "16   KNN     recall       0.274032\n",
       "17   XGB     recall       0.597032"
      ]
     },
     "execution_count": 26,
     "metadata": {},
     "output_type": "execute_result"
    }
   ],
   "source": [
    "cv_df"
   ]
  }
 ],
 "metadata": {
  "kernelspec": {
   "display_name": "Python 3 (ipykernel)",
   "language": "python",
   "name": "python3"
  },
  "language_info": {
   "codemirror_mode": {
    "name": "ipython",
    "version": 3
   },
   "file_extension": ".py",
   "mimetype": "text/x-python",
   "name": "python",
   "nbconvert_exporter": "python",
   "pygments_lexer": "ipython3",
   "version": "3.9.12"
  }
 },
 "nbformat": 4,
 "nbformat_minor": 5
}
